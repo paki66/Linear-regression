{
  "nbformat": 4,
  "nbformat_minor": 0,
  "metadata": {
    "colab": {
      "provenance": [],
      "authorship_tag": "ABX9TyNr+wRwunzwZpovIfF1jfhl",
      "include_colab_link": true
    },
    "kernelspec": {
      "name": "python3",
      "display_name": "Python 3"
    },
    "language_info": {
      "name": "python"
    }
  },
  "cells": [
    {
      "cell_type": "markdown",
      "metadata": {
        "id": "view-in-github",
        "colab_type": "text"
      },
      "source": [
        "<a href=\"https://colab.research.google.com/github/paki66/Linear-regression/blob/main/probaAI.ipynb\" target=\"_parent\"><img src=\"https://colab.research.google.com/assets/colab-badge.svg\" alt=\"Open In Colab\"/></a>"
      ]
    },
    {
      "cell_type": "code",
      "execution_count": 133,
      "metadata": {
        "id": "FI_dSsfFNy_U",
        "colab": {
          "base_uri": "https://localhost:8080/",
          "height": 36
        },
        "outputId": "55518a7e-c0d9-4242-a151-8b2d57f4e89c"
      },
      "outputs": [
        {
          "output_type": "execute_result",
          "data": {
            "text/plain": [
              "'\\nfrom google.colab import files\\nuploaded = files.upload()\\n'"
            ],
            "application/vnd.google.colaboratory.intrinsic+json": {
              "type": "string"
            }
          },
          "metadata": {},
          "execution_count": 133
        }
      ],
      "source": [
        "\"\"\"\n",
        "from google.colab import files\n",
        "uploaded = files.upload()\n",
        "\"\"\""
      ]
    },
    {
      "cell_type": "code",
      "source": [
        "\"\"\"\n",
        "import io\n",
        "df2 = pd.read_csv(io.BytesIO(uploaded['spam.csv']))\n",
        "\"\"\""
      ],
      "metadata": {
        "id": "Os6NJU_DN6Zm",
        "colab": {
          "base_uri": "https://localhost:8080/",
          "height": 36
        },
        "outputId": "4860e38d-9671-4334-af46-1d6e53e91505"
      },
      "execution_count": 134,
      "outputs": [
        {
          "output_type": "execute_result",
          "data": {
            "text/plain": [
              "\"\\nimport io\\ndf2 = pd.read_csv(io.BytesIO(uploaded['spam.csv']))\\n\""
            ],
            "application/vnd.google.colaboratory.intrinsic+json": {
              "type": "string"
            }
          },
          "metadata": {},
          "execution_count": 134
        }
      ]
    },
    {
      "cell_type": "code",
      "source": [
        "import pandas as pd\n",
        "import requests\n",
        "from io import StringIO\n",
        "\n",
        "url = \"https://raw.githubusercontent.com/paki66/artificialintelligence/main/spam.csv\"\n",
        "s=requests.get(url).text\n",
        "\n",
        "df = pd.read_csv(StringIO(s))\n",
        "df"
      ],
      "metadata": {
        "colab": {
          "base_uri": "https://localhost:8080/",
          "height": 423
        },
        "id": "6VR_DqEwN8Q2",
        "outputId": "557e6af3-8f4d-4266-c1de-283160b08da3"
      },
      "execution_count": 135,
      "outputs": [
        {
          "output_type": "execute_result",
          "data": {
            "text/plain": [
              "        v1                                                 v2 Unnamed: 2  \\\n",
              "0      ham  Go until jurong point, crazy.. Available only ...        NaN   \n",
              "1      ham                      Ok lar... Joking wif u oni...        NaN   \n",
              "2     spam  Free entry in 2 a wkly comp to win FA Cup fina...        NaN   \n",
              "3      ham  U dun say so early hor... U c already then say...        NaN   \n",
              "4      ham  Nah I don't think he goes to usf, he lives aro...        NaN   \n",
              "...    ...                                                ...        ...   \n",
              "5567  spam  This is the 2nd time we have tried 2 contact u...        NaN   \n",
              "5568   ham              Will �_ b going to esplanade fr home?        NaN   \n",
              "5569   ham  Pity, * was in mood for that. So...any other s...        NaN   \n",
              "5570   ham  The guy did some bitching but I acted like i'd...        NaN   \n",
              "5571   ham                         Rofl. Its true to its name        NaN   \n",
              "\n",
              "     Unnamed: 3 Unnamed: 4  \n",
              "0           NaN        NaN  \n",
              "1           NaN        NaN  \n",
              "2           NaN        NaN  \n",
              "3           NaN        NaN  \n",
              "4           NaN        NaN  \n",
              "...         ...        ...  \n",
              "5567        NaN        NaN  \n",
              "5568        NaN        NaN  \n",
              "5569        NaN        NaN  \n",
              "5570        NaN        NaN  \n",
              "5571        NaN        NaN  \n",
              "\n",
              "[5572 rows x 5 columns]"
            ],
            "text/html": [
              "\n",
              "  <div id=\"df-30f56bbe-c959-4da3-89b4-69d98dfddde7\">\n",
              "    <div class=\"colab-df-container\">\n",
              "      <div>\n",
              "<style scoped>\n",
              "    .dataframe tbody tr th:only-of-type {\n",
              "        vertical-align: middle;\n",
              "    }\n",
              "\n",
              "    .dataframe tbody tr th {\n",
              "        vertical-align: top;\n",
              "    }\n",
              "\n",
              "    .dataframe thead th {\n",
              "        text-align: right;\n",
              "    }\n",
              "</style>\n",
              "<table border=\"1\" class=\"dataframe\">\n",
              "  <thead>\n",
              "    <tr style=\"text-align: right;\">\n",
              "      <th></th>\n",
              "      <th>v1</th>\n",
              "      <th>v2</th>\n",
              "      <th>Unnamed: 2</th>\n",
              "      <th>Unnamed: 3</th>\n",
              "      <th>Unnamed: 4</th>\n",
              "    </tr>\n",
              "  </thead>\n",
              "  <tbody>\n",
              "    <tr>\n",
              "      <th>0</th>\n",
              "      <td>ham</td>\n",
              "      <td>Go until jurong point, crazy.. Available only ...</td>\n",
              "      <td>NaN</td>\n",
              "      <td>NaN</td>\n",
              "      <td>NaN</td>\n",
              "    </tr>\n",
              "    <tr>\n",
              "      <th>1</th>\n",
              "      <td>ham</td>\n",
              "      <td>Ok lar... Joking wif u oni...</td>\n",
              "      <td>NaN</td>\n",
              "      <td>NaN</td>\n",
              "      <td>NaN</td>\n",
              "    </tr>\n",
              "    <tr>\n",
              "      <th>2</th>\n",
              "      <td>spam</td>\n",
              "      <td>Free entry in 2 a wkly comp to win FA Cup fina...</td>\n",
              "      <td>NaN</td>\n",
              "      <td>NaN</td>\n",
              "      <td>NaN</td>\n",
              "    </tr>\n",
              "    <tr>\n",
              "      <th>3</th>\n",
              "      <td>ham</td>\n",
              "      <td>U dun say so early hor... U c already then say...</td>\n",
              "      <td>NaN</td>\n",
              "      <td>NaN</td>\n",
              "      <td>NaN</td>\n",
              "    </tr>\n",
              "    <tr>\n",
              "      <th>4</th>\n",
              "      <td>ham</td>\n",
              "      <td>Nah I don't think he goes to usf, he lives aro...</td>\n",
              "      <td>NaN</td>\n",
              "      <td>NaN</td>\n",
              "      <td>NaN</td>\n",
              "    </tr>\n",
              "    <tr>\n",
              "      <th>...</th>\n",
              "      <td>...</td>\n",
              "      <td>...</td>\n",
              "      <td>...</td>\n",
              "      <td>...</td>\n",
              "      <td>...</td>\n",
              "    </tr>\n",
              "    <tr>\n",
              "      <th>5567</th>\n",
              "      <td>spam</td>\n",
              "      <td>This is the 2nd time we have tried 2 contact u...</td>\n",
              "      <td>NaN</td>\n",
              "      <td>NaN</td>\n",
              "      <td>NaN</td>\n",
              "    </tr>\n",
              "    <tr>\n",
              "      <th>5568</th>\n",
              "      <td>ham</td>\n",
              "      <td>Will �_ b going to esplanade fr home?</td>\n",
              "      <td>NaN</td>\n",
              "      <td>NaN</td>\n",
              "      <td>NaN</td>\n",
              "    </tr>\n",
              "    <tr>\n",
              "      <th>5569</th>\n",
              "      <td>ham</td>\n",
              "      <td>Pity, * was in mood for that. So...any other s...</td>\n",
              "      <td>NaN</td>\n",
              "      <td>NaN</td>\n",
              "      <td>NaN</td>\n",
              "    </tr>\n",
              "    <tr>\n",
              "      <th>5570</th>\n",
              "      <td>ham</td>\n",
              "      <td>The guy did some bitching but I acted like i'd...</td>\n",
              "      <td>NaN</td>\n",
              "      <td>NaN</td>\n",
              "      <td>NaN</td>\n",
              "    </tr>\n",
              "    <tr>\n",
              "      <th>5571</th>\n",
              "      <td>ham</td>\n",
              "      <td>Rofl. Its true to its name</td>\n",
              "      <td>NaN</td>\n",
              "      <td>NaN</td>\n",
              "      <td>NaN</td>\n",
              "    </tr>\n",
              "  </tbody>\n",
              "</table>\n",
              "<p>5572 rows × 5 columns</p>\n",
              "</div>\n",
              "      <button class=\"colab-df-convert\" onclick=\"convertToInteractive('df-30f56bbe-c959-4da3-89b4-69d98dfddde7')\"\n",
              "              title=\"Convert this dataframe to an interactive table.\"\n",
              "              style=\"display:none;\">\n",
              "        \n",
              "  <svg xmlns=\"http://www.w3.org/2000/svg\" height=\"24px\"viewBox=\"0 0 24 24\"\n",
              "       width=\"24px\">\n",
              "    <path d=\"M0 0h24v24H0V0z\" fill=\"none\"/>\n",
              "    <path d=\"M18.56 5.44l.94 2.06.94-2.06 2.06-.94-2.06-.94-.94-2.06-.94 2.06-2.06.94zm-11 1L8.5 8.5l.94-2.06 2.06-.94-2.06-.94L8.5 2.5l-.94 2.06-2.06.94zm10 10l.94 2.06.94-2.06 2.06-.94-2.06-.94-.94-2.06-.94 2.06-2.06.94z\"/><path d=\"M17.41 7.96l-1.37-1.37c-.4-.4-.92-.59-1.43-.59-.52 0-1.04.2-1.43.59L10.3 9.45l-7.72 7.72c-.78.78-.78 2.05 0 2.83L4 21.41c.39.39.9.59 1.41.59.51 0 1.02-.2 1.41-.59l7.78-7.78 2.81-2.81c.8-.78.8-2.07 0-2.86zM5.41 20L4 18.59l7.72-7.72 1.47 1.35L5.41 20z\"/>\n",
              "  </svg>\n",
              "      </button>\n",
              "      \n",
              "  <style>\n",
              "    .colab-df-container {\n",
              "      display:flex;\n",
              "      flex-wrap:wrap;\n",
              "      gap: 12px;\n",
              "    }\n",
              "\n",
              "    .colab-df-convert {\n",
              "      background-color: #E8F0FE;\n",
              "      border: none;\n",
              "      border-radius: 50%;\n",
              "      cursor: pointer;\n",
              "      display: none;\n",
              "      fill: #1967D2;\n",
              "      height: 32px;\n",
              "      padding: 0 0 0 0;\n",
              "      width: 32px;\n",
              "    }\n",
              "\n",
              "    .colab-df-convert:hover {\n",
              "      background-color: #E2EBFA;\n",
              "      box-shadow: 0px 1px 2px rgba(60, 64, 67, 0.3), 0px 1px 3px 1px rgba(60, 64, 67, 0.15);\n",
              "      fill: #174EA6;\n",
              "    }\n",
              "\n",
              "    [theme=dark] .colab-df-convert {\n",
              "      background-color: #3B4455;\n",
              "      fill: #D2E3FC;\n",
              "    }\n",
              "\n",
              "    [theme=dark] .colab-df-convert:hover {\n",
              "      background-color: #434B5C;\n",
              "      box-shadow: 0px 1px 3px 1px rgba(0, 0, 0, 0.15);\n",
              "      filter: drop-shadow(0px 1px 2px rgba(0, 0, 0, 0.3));\n",
              "      fill: #FFFFFF;\n",
              "    }\n",
              "  </style>\n",
              "\n",
              "      <script>\n",
              "        const buttonEl =\n",
              "          document.querySelector('#df-30f56bbe-c959-4da3-89b4-69d98dfddde7 button.colab-df-convert');\n",
              "        buttonEl.style.display =\n",
              "          google.colab.kernel.accessAllowed ? 'block' : 'none';\n",
              "\n",
              "        async function convertToInteractive(key) {\n",
              "          const element = document.querySelector('#df-30f56bbe-c959-4da3-89b4-69d98dfddde7');\n",
              "          const dataTable =\n",
              "            await google.colab.kernel.invokeFunction('convertToInteractive',\n",
              "                                                     [key], {});\n",
              "          if (!dataTable) return;\n",
              "\n",
              "          const docLinkHtml = 'Like what you see? Visit the ' +\n",
              "            '<a target=\"_blank\" href=https://colab.research.google.com/notebooks/data_table.ipynb>data table notebook</a>'\n",
              "            + ' to learn more about interactive tables.';\n",
              "          element.innerHTML = '';\n",
              "          dataTable['output_type'] = 'display_data';\n",
              "          await google.colab.output.renderOutput(dataTable, element);\n",
              "          const docLink = document.createElement('div');\n",
              "          docLink.innerHTML = docLinkHtml;\n",
              "          element.appendChild(docLink);\n",
              "        }\n",
              "      </script>\n",
              "    </div>\n",
              "  </div>\n",
              "  "
            ]
          },
          "metadata": {},
          "execution_count": 135
        }
      ]
    },
    {
      "cell_type": "code",
      "source": [
        "df = df.drop([\"Unnamed: 2\",\"Unnamed: 3\",\"Unnamed: 4\"],axis=1)\n",
        "df"
      ],
      "metadata": {
        "colab": {
          "base_uri": "https://localhost:8080/",
          "height": 423
        },
        "id": "7p7b-SEnN-Vy",
        "outputId": "b9872e0f-569c-4436-e10f-add27662d9b3"
      },
      "execution_count": 136,
      "outputs": [
        {
          "output_type": "execute_result",
          "data": {
            "text/plain": [
              "        v1                                                 v2\n",
              "0      ham  Go until jurong point, crazy.. Available only ...\n",
              "1      ham                      Ok lar... Joking wif u oni...\n",
              "2     spam  Free entry in 2 a wkly comp to win FA Cup fina...\n",
              "3      ham  U dun say so early hor... U c already then say...\n",
              "4      ham  Nah I don't think he goes to usf, he lives aro...\n",
              "...    ...                                                ...\n",
              "5567  spam  This is the 2nd time we have tried 2 contact u...\n",
              "5568   ham              Will �_ b going to esplanade fr home?\n",
              "5569   ham  Pity, * was in mood for that. So...any other s...\n",
              "5570   ham  The guy did some bitching but I acted like i'd...\n",
              "5571   ham                         Rofl. Its true to its name\n",
              "\n",
              "[5572 rows x 2 columns]"
            ],
            "text/html": [
              "\n",
              "  <div id=\"df-4886e751-079f-453e-9d20-3c30be41825b\">\n",
              "    <div class=\"colab-df-container\">\n",
              "      <div>\n",
              "<style scoped>\n",
              "    .dataframe tbody tr th:only-of-type {\n",
              "        vertical-align: middle;\n",
              "    }\n",
              "\n",
              "    .dataframe tbody tr th {\n",
              "        vertical-align: top;\n",
              "    }\n",
              "\n",
              "    .dataframe thead th {\n",
              "        text-align: right;\n",
              "    }\n",
              "</style>\n",
              "<table border=\"1\" class=\"dataframe\">\n",
              "  <thead>\n",
              "    <tr style=\"text-align: right;\">\n",
              "      <th></th>\n",
              "      <th>v1</th>\n",
              "      <th>v2</th>\n",
              "    </tr>\n",
              "  </thead>\n",
              "  <tbody>\n",
              "    <tr>\n",
              "      <th>0</th>\n",
              "      <td>ham</td>\n",
              "      <td>Go until jurong point, crazy.. Available only ...</td>\n",
              "    </tr>\n",
              "    <tr>\n",
              "      <th>1</th>\n",
              "      <td>ham</td>\n",
              "      <td>Ok lar... Joking wif u oni...</td>\n",
              "    </tr>\n",
              "    <tr>\n",
              "      <th>2</th>\n",
              "      <td>spam</td>\n",
              "      <td>Free entry in 2 a wkly comp to win FA Cup fina...</td>\n",
              "    </tr>\n",
              "    <tr>\n",
              "      <th>3</th>\n",
              "      <td>ham</td>\n",
              "      <td>U dun say so early hor... U c already then say...</td>\n",
              "    </tr>\n",
              "    <tr>\n",
              "      <th>4</th>\n",
              "      <td>ham</td>\n",
              "      <td>Nah I don't think he goes to usf, he lives aro...</td>\n",
              "    </tr>\n",
              "    <tr>\n",
              "      <th>...</th>\n",
              "      <td>...</td>\n",
              "      <td>...</td>\n",
              "    </tr>\n",
              "    <tr>\n",
              "      <th>5567</th>\n",
              "      <td>spam</td>\n",
              "      <td>This is the 2nd time we have tried 2 contact u...</td>\n",
              "    </tr>\n",
              "    <tr>\n",
              "      <th>5568</th>\n",
              "      <td>ham</td>\n",
              "      <td>Will �_ b going to esplanade fr home?</td>\n",
              "    </tr>\n",
              "    <tr>\n",
              "      <th>5569</th>\n",
              "      <td>ham</td>\n",
              "      <td>Pity, * was in mood for that. So...any other s...</td>\n",
              "    </tr>\n",
              "    <tr>\n",
              "      <th>5570</th>\n",
              "      <td>ham</td>\n",
              "      <td>The guy did some bitching but I acted like i'd...</td>\n",
              "    </tr>\n",
              "    <tr>\n",
              "      <th>5571</th>\n",
              "      <td>ham</td>\n",
              "      <td>Rofl. Its true to its name</td>\n",
              "    </tr>\n",
              "  </tbody>\n",
              "</table>\n",
              "<p>5572 rows × 2 columns</p>\n",
              "</div>\n",
              "      <button class=\"colab-df-convert\" onclick=\"convertToInteractive('df-4886e751-079f-453e-9d20-3c30be41825b')\"\n",
              "              title=\"Convert this dataframe to an interactive table.\"\n",
              "              style=\"display:none;\">\n",
              "        \n",
              "  <svg xmlns=\"http://www.w3.org/2000/svg\" height=\"24px\"viewBox=\"0 0 24 24\"\n",
              "       width=\"24px\">\n",
              "    <path d=\"M0 0h24v24H0V0z\" fill=\"none\"/>\n",
              "    <path d=\"M18.56 5.44l.94 2.06.94-2.06 2.06-.94-2.06-.94-.94-2.06-.94 2.06-2.06.94zm-11 1L8.5 8.5l.94-2.06 2.06-.94-2.06-.94L8.5 2.5l-.94 2.06-2.06.94zm10 10l.94 2.06.94-2.06 2.06-.94-2.06-.94-.94-2.06-.94 2.06-2.06.94z\"/><path d=\"M17.41 7.96l-1.37-1.37c-.4-.4-.92-.59-1.43-.59-.52 0-1.04.2-1.43.59L10.3 9.45l-7.72 7.72c-.78.78-.78 2.05 0 2.83L4 21.41c.39.39.9.59 1.41.59.51 0 1.02-.2 1.41-.59l7.78-7.78 2.81-2.81c.8-.78.8-2.07 0-2.86zM5.41 20L4 18.59l7.72-7.72 1.47 1.35L5.41 20z\"/>\n",
              "  </svg>\n",
              "      </button>\n",
              "      \n",
              "  <style>\n",
              "    .colab-df-container {\n",
              "      display:flex;\n",
              "      flex-wrap:wrap;\n",
              "      gap: 12px;\n",
              "    }\n",
              "\n",
              "    .colab-df-convert {\n",
              "      background-color: #E8F0FE;\n",
              "      border: none;\n",
              "      border-radius: 50%;\n",
              "      cursor: pointer;\n",
              "      display: none;\n",
              "      fill: #1967D2;\n",
              "      height: 32px;\n",
              "      padding: 0 0 0 0;\n",
              "      width: 32px;\n",
              "    }\n",
              "\n",
              "    .colab-df-convert:hover {\n",
              "      background-color: #E2EBFA;\n",
              "      box-shadow: 0px 1px 2px rgba(60, 64, 67, 0.3), 0px 1px 3px 1px rgba(60, 64, 67, 0.15);\n",
              "      fill: #174EA6;\n",
              "    }\n",
              "\n",
              "    [theme=dark] .colab-df-convert {\n",
              "      background-color: #3B4455;\n",
              "      fill: #D2E3FC;\n",
              "    }\n",
              "\n",
              "    [theme=dark] .colab-df-convert:hover {\n",
              "      background-color: #434B5C;\n",
              "      box-shadow: 0px 1px 3px 1px rgba(0, 0, 0, 0.15);\n",
              "      filter: drop-shadow(0px 1px 2px rgba(0, 0, 0, 0.3));\n",
              "      fill: #FFFFFF;\n",
              "    }\n",
              "  </style>\n",
              "\n",
              "      <script>\n",
              "        const buttonEl =\n",
              "          document.querySelector('#df-4886e751-079f-453e-9d20-3c30be41825b button.colab-df-convert');\n",
              "        buttonEl.style.display =\n",
              "          google.colab.kernel.accessAllowed ? 'block' : 'none';\n",
              "\n",
              "        async function convertToInteractive(key) {\n",
              "          const element = document.querySelector('#df-4886e751-079f-453e-9d20-3c30be41825b');\n",
              "          const dataTable =\n",
              "            await google.colab.kernel.invokeFunction('convertToInteractive',\n",
              "                                                     [key], {});\n",
              "          if (!dataTable) return;\n",
              "\n",
              "          const docLinkHtml = 'Like what you see? Visit the ' +\n",
              "            '<a target=\"_blank\" href=https://colab.research.google.com/notebooks/data_table.ipynb>data table notebook</a>'\n",
              "            + ' to learn more about interactive tables.';\n",
              "          element.innerHTML = '';\n",
              "          dataTable['output_type'] = 'display_data';\n",
              "          await google.colab.output.renderOutput(dataTable, element);\n",
              "          const docLink = document.createElement('div');\n",
              "          docLink.innerHTML = docLinkHtml;\n",
              "          element.appendChild(docLink);\n",
              "        }\n",
              "      </script>\n",
              "    </div>\n",
              "  </div>\n",
              "  "
            ]
          },
          "metadata": {},
          "execution_count": 136
        }
      ]
    },
    {
      "cell_type": "code",
      "source": [
        "numOfSpam = 0\n",
        "numOfHam = 0\n",
        "\n",
        "for i in range(len(df.index)):\n",
        "  if df.at[i, \"v1\"] == \"ham\":\n",
        "    numOfHam += 1\n",
        "  else:\n",
        "    numOfSpam += 1\n",
        "numOfHam"
      ],
      "metadata": {
        "colab": {
          "base_uri": "https://localhost:8080/"
        },
        "id": "CMntFd8ZOAS-",
        "outputId": "0df07370-24a7-4b80-d9b4-33423dd1c534"
      },
      "execution_count": 137,
      "outputs": [
        {
          "output_type": "execute_result",
          "data": {
            "text/plain": [
              "4825"
            ]
          },
          "metadata": {},
          "execution_count": 137
        }
      ]
    },
    {
      "cell_type": "code",
      "source": [
        "import matplotlib.pyplot as plt\n",
        "labels = \"ham\", \"spam\"\n",
        "sizes = [numOfHam, numOfSpam]\n",
        "\n",
        "fig, ax = plt.subplots()\n",
        "ax.pie(sizes, labels=labels)"
      ],
      "metadata": {
        "colab": {
          "base_uri": "https://localhost:8080/",
          "height": 475
        },
        "id": "cXJlmIT9ODtw",
        "outputId": "d68a18e4-5101-434a-ecf7-257b09b72579"
      },
      "execution_count": 138,
      "outputs": [
        {
          "output_type": "execute_result",
          "data": {
            "text/plain": [
              "([<matplotlib.patches.Wedge at 0x7f5a937f6ad0>,\n",
              "  <matplotlib.patches.Wedge at 0x7f5ad412d4b0>],\n",
              " [Text(-1.0038714981945518, 0.4497132587689916, 'ham'),\n",
              "  Text(1.0038714771419537, -0.44971330576360763, 'spam')])"
            ]
          },
          "metadata": {},
          "execution_count": 138
        },
        {
          "output_type": "display_data",
          "data": {
            "text/plain": [
              "<Figure size 640x480 with 1 Axes>"
            ],
            "image/png": "[encoded data removed]"
          },
          "metadata": {}
        }
      ]
    },
    {
      "cell_type": "code",
      "source": [
        "import numpy as np\n",
        "\n",
        "values = [numOfSpam, numOfHam]\n",
        "classes = [\"Spam\", \"Ham\"]\n",
        "\n",
        "fig = plt.figure(figsize = (10, 5))\n",
        "\n",
        "plt.bar(classes, values, color ='maroon',\n",
        "        width = 0.4)\n",
        "\n",
        "plt.xlabel(\"Class of email\")\n",
        "plt.ylabel(\"No. of email\")\n",
        "plt.title(\"Email distribution in dataset\")\n",
        "plt.show()"
      ],
      "metadata": {
        "colab": {
          "base_uri": "https://localhost:8080/",
          "height": 487
        },
        "id": "QGhLBtxJODze",
        "outputId": "dd1b874c-3d00-43ca-e9d1-029d595e32bf"
      },
      "execution_count": 139,
      "outputs": [
        {
          "output_type": "display_data",
          "data": {
            "text/plain": [
              "<Figure size 1000x500 with 1 Axes>"
            ],
            "image/png": "[encoded data removed]"
          },
          "metadata": {}
        }
      ]
    },
    {
      "cell_type": "code",
      "source": [
        "from sklearn.model_selection import train_test_split\n",
        "\n",
        "y=df['v1']\n",
        "X=df[\"v2\"]\n",
        "X_train, X_val, y_train, y_val = train_test_split(X, y, test_size=0.1, stratify=y)\n"
      ],
      "metadata": {
        "id": "mRGKvMRQOJfN"
      },
      "execution_count": 175,
      "outputs": []
    },
    {
      "cell_type": "code",
      "source": [
        "type(X_train)"
      ],
      "metadata": {
        "colab": {
          "base_uri": "https://localhost:8080/"
        },
        "id": "57Yw6YvNOMDK",
        "outputId": "967ff748-5320-4d9a-d532-1933c3956058"
      },
      "execution_count": 177,
      "outputs": [
        {
          "output_type": "execute_result",
          "data": {
            "text/plain": [
              "pandas.core.series.Series"
            ]
          },
          "metadata": {},
          "execution_count": 177
        }
      ]
    },
    {
      "cell_type": "code",
      "source": [
        "\"\"\"\n",
        "numOfSpamTrain = 0\n",
        "numOfHamTrain = 0\n",
        "\n",
        "for i in range(len(X_train.index)):\n",
        "  if X_train.at[i, \"v1\"] == \"ham\":\n",
        "    numOfHamTrain += 1\n",
        "  else:\n",
        "    numOfSpamTrain += 1\n",
        "numOfHamTrain\n",
        "\"\"\""
      ],
      "metadata": {
        "colab": {
          "base_uri": "https://localhost:8080/",
          "height": 53
        },
        "id": "xr-LOPCdOOiM",
        "outputId": "a02562cc-4ddd-4a48-ba74-5dcd647faa9f"
      },
      "execution_count": 178,
      "outputs": [
        {
          "output_type": "execute_result",
          "data": {
            "text/plain": [
              "'\\nnumOfSpamTrain = 0\\nnumOfHamTrain = 0\\n\\nfor i in range(len(X_train.index)):\\n  if X_train.at[i, \"v1\"] == \"ham\":\\n    numOfHamTrain += 1\\n  else:\\n    numOfSpamTrain += 1\\nnumOfHamTrain\\n'"
            ],
            "application/vnd.google.colaboratory.intrinsic+json": {
              "type": "string"
            }
          },
          "metadata": {},
          "execution_count": 178
        }
      ]
    },
    {
      "cell_type": "code",
      "source": [
        "\"\"\"\n",
        "y_val = y_val.reset_index(drop = True)\n",
        "y_train = y_train.reset_index(drop=True)\n",
        "y_val\n",
        "\"\"\""
      ],
      "metadata": {
        "colab": {
          "base_uri": "https://localhost:8080/",
          "height": 36
        },
        "id": "Hi8AWAxTORJ3",
        "outputId": "7707eef4-4242-4081-b972-1cde1395fdf2"
      },
      "execution_count": 179,
      "outputs": [
        {
          "output_type": "execute_result",
          "data": {
            "text/plain": [
              "'\\ny_val = y_val.reset_index(drop = True)\\ny_train = y_train.reset_index(drop=True)\\ny_val\\n'"
            ],
            "application/vnd.google.colaboratory.intrinsic+json": {
              "type": "string"
            }
          },
          "metadata": {},
          "execution_count": 179
        }
      ]
    },
    {
      "cell_type": "code",
      "source": [
        "y_val = y_val.reset_index(drop = True)\n",
        "y_val"
      ],
      "metadata": {
        "colab": {
          "base_uri": "https://localhost:8080/"
        },
        "id": "Ca6Mx8NsOS8r",
        "outputId": "a8e2c4f7-0751-4654-f25c-9bb8974949c4"
      },
      "execution_count": 180,
      "outputs": [
        {
          "output_type": "execute_result",
          "data": {
            "text/plain": [
              "0       ham\n",
              "1       ham\n",
              "2       ham\n",
              "3       ham\n",
              "4      spam\n",
              "       ... \n",
              "553     ham\n",
              "554     ham\n",
              "555     ham\n",
              "556     ham\n",
              "557    spam\n",
              "Name: v1, Length: 558, dtype: object"
            ]
          },
          "metadata": {},
          "execution_count": 180
        }
      ]
    },
    {
      "cell_type": "code",
      "source": [
        "X_val = X_val.reset_index(drop = True)\n",
        "X_val"
      ],
      "metadata": {
        "colab": {
          "base_uri": "https://localhost:8080/"
        },
        "id": "kg0kI_MAOV-U",
        "outputId": "0b9a708a-3831-4b59-ce34-74bb2b1dd8f6"
      },
      "execution_count": 181,
      "outputs": [
        {
          "output_type": "execute_result",
          "data": {
            "text/plain": [
              "0      Sad story of a Man - Last week was my b'day. M...\n",
              "1      So there's a ring that comes with the guys cos...\n",
              "2                       Did you try making another butt.\n",
              "3      Hello. Sort of out in town already. That . So ...\n",
              "4      January Male Sale! Hot Gay chat now cheaper, c...\n",
              "                             ...                        \n",
              "553                      Also maaaan are you missing out\n",
              "554    And is there a way you can send shade's stuff ...\n",
              "555    Babe? You said 2 hours and it's been almost 4 ...\n",
              "556    Forgot it takes me 3 years to shower, sorry. W...\n",
              "557    Will u meet ur dream partner soon? Is ur caree...\n",
              "Name: v2, Length: 558, dtype: object"
            ]
          },
          "metadata": {},
          "execution_count": 181
        }
      ]
    },
    {
      "cell_type": "code",
      "source": [
        "X_train = X_train.reset_index(drop = True)\n",
        "X_train"
      ],
      "metadata": {
        "colab": {
          "base_uri": "https://localhost:8080/"
        },
        "id": "zzTsnKGBOYIM",
        "outputId": "5b7fb3c0-f884-4520-86eb-8232b7e61467"
      },
      "execution_count": 182,
      "outputs": [
        {
          "output_type": "execute_result",
          "data": {
            "text/plain": [
              "0       Check mail.i have mailed varma and kept copy t...\n",
              "1       Haha... Really oh no... How? Then will they de...\n",
              "2       I wanted to wish you a Happy New Year and I wa...\n",
              "3       Where wuld I be without my baby? The thought a...\n",
              "4                         Y �_ wan to go there? C doctor?\n",
              "                              ...                        \n",
              "5009    Hi 07734396839 IBH Customer Loyalty Offer: The...\n",
              "5010    How have your little darlings been so far this...\n",
              "5011    Congratulations U can claim 2 VIP row A Ticket...\n",
              "5012    In case you wake up wondering where I am, I fo...\n",
              "5013                             K..k.:)congratulation ..\n",
              "Name: v2, Length: 5014, dtype: object"
            ]
          },
          "metadata": {},
          "execution_count": 182
        }
      ]
    },
    {
      "cell_type": "code",
      "source": [
        "y_train = y_train.reset_index(drop = True)\n",
        "y_train"
      ],
      "metadata": {
        "colab": {
          "base_uri": "https://localhost:8080/"
        },
        "id": "O9_povdJOYlr",
        "outputId": "d32441c4-6c3a-4f9c-87d4-fe03fd13f6f0"
      },
      "execution_count": 183,
      "outputs": [
        {
          "output_type": "execute_result",
          "data": {
            "text/plain": [
              "0        ham\n",
              "1        ham\n",
              "2        ham\n",
              "3        ham\n",
              "4        ham\n",
              "        ... \n",
              "5009    spam\n",
              "5010     ham\n",
              "5011    spam\n",
              "5012     ham\n",
              "5013     ham\n",
              "Name: v1, Length: 5014, dtype: object"
            ]
          },
          "metadata": {},
          "execution_count": 183
        }
      ]
    },
    {
      "cell_type": "code",
      "source": [
        "numOfSpamTrain = 0\n",
        "numOfHamTrain = 0\n",
        "numOfSpamTest = 0\n",
        "numOfHamTest = 0\n",
        "\n",
        "for i in range(1,len(y_train)):\n",
        "  if y_train[i]==\"ham\":\n",
        "    numOfHamTrain+=1\n",
        "  else:\n",
        "    numOfSpamTrain+=1\n",
        "\n",
        "for i in range(1,len(y_val)):\n",
        "  if y_val[i]==\"ham\":\n",
        "    numOfHamTest+=1\n",
        "  else:\n",
        "    numOfSpamTest+=1"
      ],
      "metadata": {
        "id": "nfvcFJVQOaSB"
      },
      "execution_count": 184,
      "outputs": []
    },
    {
      "cell_type": "code",
      "source": [
        "labels = \"ham train\", \"spam train\"\n",
        "sizes = [numOfHamTrain, numOfSpamTrain]\n",
        "\n",
        "fig, ax = plt.subplots()\n",
        "ax.pie(sizes, labels=labels)"
      ],
      "metadata": {
        "colab": {
          "base_uri": "https://localhost:8080/",
          "height": 475
        },
        "id": "oTHYYFqOOdxk",
        "outputId": "df67061d-3f7f-415d-fab6-b044d1f940e5"
      },
      "execution_count": 185,
      "outputs": [
        {
          "output_type": "execute_result",
          "data": {
            "text/plain": [
              "([<matplotlib.patches.Wedge at 0x7f5a938f2110>,\n",
              "  <matplotlib.patches.Wedge at 0x7f5a9375d1e0>],\n",
              " [Text(-1.0038880869579652, 0.44967622670525637, 'ham train'),\n",
              "  Text(1.0038881290596877, -0.4496761327144681, 'spam train')])"
            ]
          },
          "metadata": {},
          "execution_count": 185
        },
        {
          "output_type": "display_data",
          "data": {
            "text/plain": [
              "<Figure size 640x480 with 1 Axes>"
            ],
            "image/png": "[encoded data removed]"
          },
          "metadata": {}
        }
      ]
    },
    {
      "cell_type": "code",
      "source": [
        "values = [numOfSpamTrain, numOfHamTrain]\n",
        "classes = [\"Spam train\", \"Ham train\"]\n",
        "\n",
        "fig = plt.figure(figsize = (10, 5))\n",
        "\n",
        "plt.bar(classes, values, color ='green',\n",
        "        width = 0.4)\n",
        "\n",
        "plt.xlabel(\"Class of email\")\n",
        "plt.ylabel(\"No. of email\")\n",
        "plt.title(\"Email distribution in train set\")\n",
        "plt.show()"
      ],
      "metadata": {
        "colab": {
          "base_uri": "https://localhost:8080/",
          "height": 487
        },
        "id": "FdkxgA_GOaWy",
        "outputId": "3948a0ee-3f83-4ae3-cd53-58a475f69ecb"
      },
      "execution_count": 186,
      "outputs": [
        {
          "output_type": "display_data",
          "data": {
            "text/plain": [
              "<Figure size 1000x500 with 1 Axes>"
            ],
            "image/png": "[encoded data removed]"
          },
          "metadata": {}
        }
      ]
    },
    {
      "cell_type": "code",
      "source": [
        "labels = \"ham test\", \"spam test\"\n",
        "sizes = [numOfHamTest, numOfSpamTest]\n",
        "\n",
        "fig, ax = plt.subplots()\n",
        "ax.pie(sizes, labels=labels)"
      ],
      "metadata": {
        "colab": {
          "base_uri": "https://localhost:8080/",
          "height": 475
        },
        "id": "qnDhHu-qOh9K",
        "outputId": "4a81cfc7-b347-4fd2-fc25-009609ebcd6d"
      },
      "execution_count": 187,
      "outputs": [
        {
          "output_type": "execute_result",
          "data": {
            "text/plain": [
              "([<matplotlib.patches.Wedge at 0x7f5a93411420>,\n",
              "  <matplotlib.patches.Wedge at 0x7f5a933d8d00>],\n",
              " [Text(-1.003040826106092, 0.45156295371122834, 'ham test'),\n",
              "  Text(1.0030408049669033, -0.45156300066695787, 'spam test')])"
            ]
          },
          "metadata": {},
          "execution_count": 187
        },
        {
          "output_type": "display_data",
          "data": {
            "text/plain": [
              "<Figure size 640x480 with 1 Axes>"
            ],
            "image/png": "[encoded data removed]"
          },
          "metadata": {}
        }
      ]
    },
    {
      "cell_type": "code",
      "source": [
        "values = [numOfSpamTest, numOfHamTest]\n",
        "classes = [\"Spam test\", \"Ham test\"]\n",
        "\n",
        "fig = plt.figure(figsize = (10, 5))\n",
        "\n",
        "plt.bar(classes, values, color ='blue',\n",
        "        width = 0.4)\n",
        "\n",
        "plt.xlabel(\"Class of email\")\n",
        "plt.ylabel(\"No. of email\")\n",
        "plt.title(\"Email distribution in test set\")\n",
        "plt.show()"
      ],
      "metadata": {
        "colab": {
          "base_uri": "https://localhost:8080/",
          "height": 487
        },
        "id": "riMKB7MWOkWq",
        "outputId": "b71bd592-b840-4cc3-9469-0194214dc42e"
      },
      "execution_count": 188,
      "outputs": [
        {
          "output_type": "display_data",
          "data": {
            "text/plain": [
              "<Figure size 1000x500 with 1 Axes>"
            ],
            "image/png": "[encoded data removed]"
          },
          "metadata": {}
        }
      ]
    },
    {
      "cell_type": "code",
      "source": [
        "import string\n",
        "\n",
        "\n",
        "for i in range(len(X_train)):\n",
        "  X_train[i] = X_train[i].lower()\n",
        "  X_train[i] = X_train[i].translate(str.maketrans('', '', string.punctuation))\n",
        "  X_train[i] = X_train[i].translate(str.maketrans('', '', string.digits))\n",
        "\n",
        "X_train[1]"
      ],
      "metadata": {
        "colab": {
          "base_uri": "https://localhost:8080/",
          "height": 36
        },
        "id": "6D3Cyar-09XB",
        "outputId": "e36f4d23-27fd-4bd5-9dbf-9e062e8da571"
      },
      "execution_count": 189,
      "outputs": [
        {
          "output_type": "execute_result",
          "data": {
            "text/plain": [
              "'haha really oh no how then will they deduct your lesson tmr'"
            ],
            "application/vnd.google.colaboratory.intrinsic+json": {
              "type": "string"
            }
          },
          "metadata": {},
          "execution_count": 189
        }
      ]
    },
    {
      "cell_type": "code",
      "source": [
        "for i in range(len(X_val)):\n",
        "  X_val[i] = X_val[i].lower()\n",
        "  X_val[i] = X_val[i].translate(str.maketrans('', '', string.punctuation))\n",
        "  X_val[i] = X_val[i].translate(str.maketrans('', '', string.digits))\n",
        "\n",
        "X_val[0]"
      ],
      "metadata": {
        "colab": {
          "base_uri": "https://localhost:8080/",
          "height": 70
        },
        "id": "VXKJufB48mT6",
        "outputId": "8beacad5-a518-413b-b97e-4f59d310c2ae"
      },
      "execution_count": 190,
      "outputs": [
        {
          "output_type": "execute_result",
          "data": {
            "text/plain": [
              "'sad story of a man  last week was my bday my wife didnt wish me my parents forgot n so did my kids  i went to work even my colleagues did not wish as i entered my cabin my pa said  happy bday boss  i felt special she askd me  lunch after lunch she invited me to her apartment we went there she said do u mind if i go into the bedroom for a minute   ok i sed in a sexy mood she came out  minuts latr wid a caken my wife my parents my kidz my friends n my colleagues all screaming surprise  and i was waiting on the sofa    naked'"
            ],
            "application/vnd.google.colaboratory.intrinsic+json": {
              "type": "string"
            }
          },
          "metadata": {},
          "execution_count": 190
        }
      ]
    },
    {
      "cell_type": "code",
      "source": [
        "#!pip install nltk"
      ],
      "metadata": {
        "id": "o3XNRhcHAbqm"
      },
      "execution_count": 191,
      "outputs": []
    },
    {
      "cell_type": "code",
      "source": [
        "type(X_train[0])"
      ],
      "metadata": {
        "colab": {
          "base_uri": "https://localhost:8080/"
        },
        "id": "q6_vZrJlBI8W",
        "outputId": "83757efc-ca50-4133-c354-8efa95626539"
      },
      "execution_count": 192,
      "outputs": [
        {
          "output_type": "execute_result",
          "data": {
            "text/plain": [
              "str"
            ]
          },
          "metadata": {},
          "execution_count": 192
        }
      ]
    },
    {
      "cell_type": "code",
      "source": [
        "\"\"\"\n",
        "import nltk\n",
        "from nltk.stem import PorterStemmer\n",
        "from nltk.tokenize import word_tokenize\n",
        "nltk.download('punkt')\n",
        "nltk.download('wordnet')\n",
        "\"\"\""
      ],
      "metadata": {
        "colab": {
          "base_uri": "https://localhost:8080/",
          "height": 36
        },
        "id": "leb8PNo8DJ8-",
        "outputId": "6a3e28cf-33e1-4ca6-9207-c0cfecb07ee9"
      },
      "execution_count": 193,
      "outputs": [
        {
          "output_type": "execute_result",
          "data": {
            "text/plain": [
              "\"\\nimport nltk\\nfrom nltk.stem import PorterStemmer\\nfrom nltk.tokenize import word_tokenize\\nnltk.download('punkt')\\nnltk.download('wordnet')\\n\""
            ],
            "application/vnd.google.colaboratory.intrinsic+json": {
              "type": "string"
            }
          },
          "metadata": {},
          "execution_count": 193
        }
      ]
    },
    {
      "cell_type": "code",
      "source": [
        "\"\"\"\n",
        "# import these modules\n",
        "from nltk.stem import WordNetLemmatizer\n",
        "\n",
        "lemmatizer = WordNetLemmatizer()\n",
        "\n",
        "print(\"rocks :\", lemmatizer.lemmatize(\"rocks\"))\n",
        "print(\"corpora :\", lemmatizer.lemmatize(\"corpora\"))\n",
        "\n",
        "# a denotes adjective in \"pos\"\n",
        "print(\"better :\", lemmatizer.lemmatize(\"better\", pos =\"a\"))\n",
        "\"\"\""
      ],
      "metadata": {
        "colab": {
          "base_uri": "https://localhost:8080/",
          "height": 53
        },
        "id": "31tjZzOUKKBF",
        "outputId": "8d5dc3fe-2d91-428b-fcde-e8559b455456"
      },
      "execution_count": 194,
      "outputs": [
        {
          "output_type": "execute_result",
          "data": {
            "text/plain": [
              "'\\n# import these modules\\nfrom nltk.stem import WordNetLemmatizer\\n\\nlemmatizer = WordNetLemmatizer()\\n\\nprint(\"rocks :\", lemmatizer.lemmatize(\"rocks\"))\\nprint(\"corpora :\", lemmatizer.lemmatize(\"corpora\"))\\n\\n# a denotes adjective in \"pos\"\\nprint(\"better :\", lemmatizer.lemmatize(\"better\", pos =\"a\"))\\n'"
            ],
            "application/vnd.google.colaboratory.intrinsic+json": {
              "type": "string"
            }
          },
          "metadata": {},
          "execution_count": 194
        }
      ]
    },
    {
      "cell_type": "code",
      "source": [
        "\"\"\"\n",
        "#word stemming\n",
        "ps = PorterStemmer()\n",
        "\n",
        "for i in range(len(X_train)):\n",
        "  words = word_tokenize(X_train[i])\n",
        "  \n",
        "  for j in range(len(words)):\n",
        "    words[j] = ps.stem(words[j])\n",
        "    words[j] = lemmatizer.lemmatize(words[j])\n",
        "  words = \" \".join(words)\n",
        "  X_train[i] = words\n",
        "\n",
        "\n",
        "for i in range(len(X_val)):\n",
        "  words = word_tokenize(X_val[i])\n",
        "  for j in range(len(words)):\n",
        "    words[j] = ps.stem(words[j])\n",
        "    words[j] = lemmatizer.lemmatize(words[j])\n",
        "  words = \" \".join(words)\n",
        "  X_train[i] = words\n",
        "\n",
        "\"\"\""
      ],
      "metadata": {
        "id": "gBz2U6KN9XS4",
        "colab": {
          "base_uri": "https://localhost:8080/",
          "height": 70
        },
        "outputId": "a0aa0313-8148-4c76-8b31-786db7ef347e"
      },
      "execution_count": 195,
      "outputs": [
        {
          "output_type": "execute_result",
          "data": {
            "text/plain": [
              "'\\n#word stemming\\nps = PorterStemmer()\\n\\nfor i in range(len(X_train)):\\n  words = word_tokenize(X_train[i])\\n  \\n  for j in range(len(words)):\\n    words[j] = ps.stem(words[j])\\n    words[j] = lemmatizer.lemmatize(words[j])\\n  words = \" \".join(words)\\n  X_train[i] = words\\n\\n\\nfor i in range(len(X_val)):\\n  words = word_tokenize(X_val[i])\\n  for j in range(len(words)):\\n    words[j] = ps.stem(words[j])\\n    words[j] = lemmatizer.lemmatize(words[j])\\n  words = \" \".join(words)\\n  X_train[i] = words\\n\\n'"
            ],
            "application/vnd.google.colaboratory.intrinsic+json": {
              "type": "string"
            }
          },
          "metadata": {},
          "execution_count": 195
        }
      ]
    },
    {
      "cell_type": "code",
      "source": [
        "\n",
        "X_train[0]"
      ],
      "metadata": {
        "colab": {
          "base_uri": "https://localhost:8080/",
          "height": 36
        },
        "id": "fTJBdvPiVIO_",
        "outputId": "dffbba74-9c48-4d2f-d57d-d5327c4e91d8"
      },
      "execution_count": 196,
      "outputs": [
        {
          "output_type": "execute_result",
          "data": {
            "text/plain": [
              "'check maili have mailed varma and kept copy to you regarding membershiptake careinsha allah'"
            ],
            "application/vnd.google.colaboratory.intrinsic+json": {
              "type": "string"
            }
          },
          "metadata": {},
          "execution_count": 196
        }
      ]
    },
    {
      "cell_type": "code",
      "source": [
        "from sklearn.feature_extraction.text import TfidfVectorizer\n",
        "vectorizer = TfidfVectorizer(use_idf=True)"
      ],
      "metadata": {
        "id": "eWZ2I0fRVmoU"
      },
      "execution_count": 197,
      "outputs": []
    },
    {
      "cell_type": "code",
      "source": [
        "\n",
        "vectorizer.fit(X_train)\n",
        "vectorizer.vocabulary_\n"
      ],
      "metadata": {
        "colab": {
          "base_uri": "https://localhost:8080/"
        },
        "id": "J_Rq7BeXdR4d",
        "outputId": "891a8af6-12dc-4f97-cc08-8d80190d4b40"
      },
      "execution_count": 202,
      "outputs": [
        {
          "output_type": "execute_result",
          "data": {
            "text/plain": [
              "{'check': 1117,\n",
              " 'maili': 4017,\n",
              " 'have': 2898,\n",
              " 'mailed': 4016,\n",
              " 'varma': 7363,\n",
              " 'and': 249,\n",
              " 'kept': 3549,\n",
              " 'copy': 1402,\n",
              " 'to': 7000,\n",
              " 'you': 7938,\n",
              " 'regarding': 5574,\n",
              " 'membershiptake': 4150,\n",
              " 'careinsha': 1011,\n",
              " 'allah': 197,\n",
              " 'haha': 2833,\n",
              " 'really': 5517,\n",
              " 'oh': 4710,\n",
              " 'no': 4558,\n",
              " 'how': 3093,\n",
              " 'then': 6874,\n",
              " 'will': 7658,\n",
              " 'they': 6890,\n",
              " 'deduct': 1642,\n",
              " 'your': 7954,\n",
              " 'lesson': 3756,\n",
              " 'tmr': 6996,\n",
              " 'wanted': 7494,\n",
              " 'wish': 7684,\n",
              " 'happy': 2876,\n",
              " 'new': 4512,\n",
              " 'year': 7904,\n",
              " 'talk': 6720,\n",
              " 'about': 17,\n",
              " 'some': 6267,\n",
              " 'legal': 3737,\n",
              " 'advice': 103,\n",
              " 'do': 1814,\n",
              " 'with': 7692,\n",
              " 'when': 7612,\n",
              " 'gary': 2577,\n",
              " 'split': 6374,\n",
              " 'but': 913,\n",
              " 'in': 3233,\n",
              " 'person': 5010,\n",
              " 'ill': 3203,\n",
              " 'make': 4023,\n",
              " 'trip': 7126,\n",
              " 'ptbo': 5376,\n",
              " 'for': 2419,\n",
              " 'that': 6851,\n",
              " 'hope': 3060,\n",
              " 'everything': 2138,\n",
              " 'is': 3350,\n",
              " 'good': 2697,\n",
              " 'babe': 487,\n",
              " 'love': 3920,\n",
              " 'ya': 7887,\n",
              " 'where': 7617,\n",
              " 'wuld': 7809,\n",
              " 'be': 584,\n",
              " 'without': 7696,\n",
              " 'my': 4422,\n",
              " 'baby': 491,\n",
              " 'the': 6860,\n",
              " 'thought': 6922,\n",
              " 'alone': 207,\n",
              " 'mite': 4253,\n",
              " 'break': 823,\n",
              " 'me': 4109,\n",
              " 'don': 1850,\n",
              " 'wanna': 7490,\n",
              " 'go': 2667,\n",
              " 'crazy': 1457,\n",
              " 'everyboy': 2132,\n",
              " 'needs': 4485,\n",
              " 'his': 2998,\n",
              " 'lady': 3651,\n",
              " 'xxxxxxxx': 7882,\n",
              " 'wan': 7488,\n",
              " 'there': 6879,\n",
              " 'doctor': 1820,\n",
              " 'spending': 6359,\n",
              " 'years': 7905,\n",
              " 'brother': 859,\n",
              " 'family': 2238,\n",
              " 'lets': 3759,\n",
              " 'plan': 5090,\n",
              " 'meet': 4129,\n",
              " 'next': 4521,\n",
              " 'week': 7560,\n",
              " 'are': 345,\n",
              " 'ready': 5507,\n",
              " 'spoiled': 6377,\n",
              " 'da': 1539,\n",
              " 'vijay': 7403,\n",
              " 'going': 2685,\n",
              " 'jaya': 3418,\n",
              " 'tv': 7172,\n",
              " 'been': 607,\n",
              " 'specially': 6346,\n",
              " 'selected': 5934,\n",
              " 'receive': 5533,\n",
              " 'award': 473,\n",
              " 'call': 944,\n",
              " 'before': 614,\n",
              " 'lines': 3807,\n",
              " 'close': 1227,\n",
              " 'cost': 1414,\n",
              " 'ppm': 5222,\n",
              " 'tcs': 6759,\n",
              " 'apply': 322,\n",
              " 'ag': 128,\n",
              " 'promo': 5346,\n",
              " 'alright': 210,\n",
              " 'im': 3206,\n",
              " 'outhave': 4839,\n",
              " 'night': 4535,\n",
              " 'anetworks': 255,\n",
              " 'allow': 202,\n",
              " 'companies': 1304,\n",
              " 'bill': 671,\n",
              " 'sms': 6229,\n",
              " 'so': 6251,\n",
              " 'responsible': 5663,\n",
              " 'their': 6864,\n",
              " 'suppliers': 6631,\n",
              " 'ok': 4717,\n",
              " 'chinese': 1167,\n",
              " 'food': 2411,\n",
              " 'on': 4741,\n",
              " 'its': 3380,\n",
              " 'way': 7529,\n",
              " 'get': 2619,\n",
              " 'fat': 2256,\n",
              " 'youre': 7955,\n",
              " 'paying': 4967,\n",
              " 'lipo': 3818,\n",
              " 'town': 7084,\n",
              " 'now': 4617,\n",
              " 'jus': 3501,\n",
              " 'take': 6711,\n",
              " 'mrt': 4362,\n",
              " 'down': 1874,\n",
              " 'later': 3690,\n",
              " 'problem': 5314,\n",
              " 'this': 6906,\n",
              " 'time': 6963,\n",
              " 'called': 949,\n",
              " 'left': 3734,\n",
              " 'message': 4170,\n",
              " 'urgent': 7304,\n",
              " 'mobile': 4276,\n",
              " 'xxx': 7875,\n",
              " 'won': 7725,\n",
              " 'bonus': 755,\n",
              " 'caller': 950,\n",
              " 'prize': 5306,\n",
              " 'nd': 4468,\n",
              " 'attempt': 425,\n",
              " 'reach': 5497,\n",
              " 'asap': 383,\n",
              " 'boxnqp': 794,\n",
              " 'he': 2906,\n",
              " 'dint': 1770,\n",
              " 'tell': 6791,\n",
              " 'anything': 294,\n",
              " 'angry': 257,\n",
              " 'why': 7639,\n",
              " 'told': 7023,\n",
              " 'abi': 11,\n",
              " 'que': 5422,\n",
              " 'pases': 4939,\n",
              " 'un': 7223,\n",
              " 'buen': 886,\n",
              " 'tiempo': 6953,\n",
              " 'or': 4793,\n",
              " 'something': 6276,\n",
              " 'like': 3788,\n",
              " 'thank': 6843,\n",
              " 'callingforgot': 956,\n",
              " 'say': 5859,\n",
              " 'onam': 4742,\n",
              " 'sirjii': 6140,\n",
              " 'am': 221,\n",
              " 'fine': 2330,\n",
              " 'here': 2956,\n",
              " 'remembered': 5599,\n",
              " 'met': 4185,\n",
              " 'an': 244,\n",
              " 'insurance': 3302,\n",
              " 'personmeet': 5014,\n",
              " 'qatar': 5413,\n",
              " 'insha': 3291,\n",
              " 'allahrakhesh': 199,\n",
              " 'ex': 2151,\n",
              " 'tata': 6742,\n",
              " 'aig': 159,\n",
              " 'who': 7632,\n",
              " 'joined': 3460,\n",
              " 'tisscotayseer': 6982,\n",
              " 'if': 3190,\n",
              " 'wereare': 7590,\n",
              " 'free': 2466,\n",
              " 'can': 979,\n",
              " 'give': 2648,\n",
              " 'otherwise': 4823,\n",
              " 'nalla': 4439,\n",
              " 'adi': 85,\n",
              " 'entey': 2074,\n",
              " 'nattil': 4459,\n",
              " 'kittum': 3591,\n",
              " 'hiya': 3008,\n",
              " 'hows': 3098,\n",
              " 'it': 3362,\n",
              " 'sunny': 6619,\n",
              " 'africa': 120,\n",
              " 'avin': 465,\n",
              " 'big': 667,\n",
              " 'old': 4734,\n",
              " 'silver': 6119,\n",
              " 'back': 497,\n",
              " 'kiss': 3586,\n",
              " 'from': 2513,\n",
              " 'hello': 2940,\n",
              " 'bored': 770,\n",
              " 'inever': 3262,\n",
              " 'id': 3178,\n",
              " 'exciting': 2160,\n",
              " 'has': 2887,\n",
              " 'happened': 2869,\n",
              " 'lol': 3872,\n",
              " 'wont': 7731,\n",
              " 'feel': 2280,\n",
              " 'bad': 501,\n",
              " 'use': 7319,\n",
              " 'her': 2955,\n",
              " 'money': 4301,\n",
              " 'out': 4831,\n",
              " 'steak': 6459,\n",
              " 'dinner': 1767,\n",
              " 'as': 381,\n",
              " 'wasnt': 7509,\n",
              " 'having': 2902,\n",
              " 'enough': 2068,\n",
              " 'trouble': 7130,\n",
              " 'sleeping': 6181,\n",
              " 'wonderful': 7728,\n",
              " 'okors': 4726,\n",
              " 'great': 2756,\n",
              " 'month': 4312,\n",
              " 'we': 7535,\n",
              " 'cherish': 1135,\n",
              " 'guys': 2817,\n",
              " 'well': 7578,\n",
              " 'each': 1956,\n",
              " 'day': 1591,\n",
              " 'mojibiola': 4291,\n",
              " 'tessypls': 6818,\n",
              " 'favor': 2267,\n",
              " 'pls': 5118,\n",
              " 'convey': 1385,\n",
              " 'birthday': 687,\n",
              " 'wishes': 7686,\n",
              " 'nimyapls': 4546,\n",
              " 'dnt': 1813,\n",
              " 'forget': 2427,\n",
              " 'today': 7006,\n",
              " 'shijas': 6032,\n",
              " 'easy': 1974,\n",
              " 'mate': 4078,\n",
              " 'guess': 2802,\n",
              " 'quick': 5430,\n",
              " 'drink': 1901,\n",
              " 'was': 7506,\n",
              " 'bit': 689,\n",
              " 'ambitious': 223,\n",
              " 'flying': 2394,\n",
              " 'monkeys': 4306,\n",
              " 'wot': 7770,\n",
              " 'think': 6899,\n",
              " 'certainly': 1075,\n",
              " 'mind': 4209,\n",
              " 'any': 284,\n",
              " 'friend': 2495,\n",
              " 'of': 4683,\n",
              " 'mine': 4212,\n",
              " 'all': 196,\n",
              " 'dear': 1614,\n",
              " 'heroi': 2963,\n",
              " 'leaving': 3730,\n",
              " 'tonite': 7047,\n",
              " 'apt': 337,\n",
              " 'opportunitypls': 4782,\n",
              " 'keep': 3541,\n",
              " 'touch': 7078,\n",
              " 'at': 413,\n",
              " 'ltemailgt': 3952,\n",
              " 'kerala': 3550,\n",
              " 'bluray': 741,\n",
              " 'player': 5101,\n",
              " 'thats': 6858,\n",
              " 'cool': 1394,\n",
              " 'princess': 5294,\n",
              " 'cover': 1440,\n",
              " 'face': 2210,\n",
              " 'hot': 3079,\n",
              " 'sticky': 6478,\n",
              " 'cum': 1508,\n",
              " 'worryuse': 7765,\n",
              " 'ice': 3173,\n",
              " 'pieces': 5063,\n",
              " 'cloth': 1233,\n",
              " 'packalso': 4877,\n",
              " 'tablets': 6698,\n",
              " 'dont': 1855,\n",
              " 'spatula': 6338,\n",
              " 'hands': 2855,\n",
              " 'head': 2907,\n",
              " 'few': 2293,\n",
              " 'mins': 4223,\n",
              " 'see': 5919,\n",
              " 'kaiez': 3509,\n",
              " 'enjoy': 2062,\n",
              " 'ur': 7301,\n",
              " 'tuition': 7161,\n",
              " 'gee': 2598,\n",
              " 'thk': 6908,\n",
              " 'second': 5907,\n",
              " 'option': 4790,\n",
              " 'sounds': 6319,\n",
              " 'beta': 650,\n",
              " 'yan': 7893,\n",
              " 'jiu': 3448,\n",
              " 'den': 1672,\n",
              " 'msg': 4365,\n",
              " 'freeday': 2467,\n",
              " 'sexy': 5988,\n",
              " 'st': 6414,\n",
              " 'georges': 2615,\n",
              " 'pic': 5051,\n",
              " 'jordantxt': 3476,\n",
              " 'miss': 4238,\n",
              " 'every': 2129,\n",
              " 'wk': 7703,\n",
              " 'saucy': 5852,\n",
              " 'celeb': 1062,\n",
              " 'more': 4323,\n",
              " 'pics': 5056,\n",
              " 'pocketbabecouk': 5148,\n",
              " 'did': 1735,\n",
              " 'air': 162,\n",
              " 'whats': 7608,\n",
              " 'talent': 6718,\n",
              " 'guy': 2816,\n",
              " 'gets': 2623,\n",
              " 'used': 7320,\n",
              " 'too': 7051,\n",
              " 'dumb': 1939,\n",
              " 'realize': 5514,\n",
              " 'nah': 4435,\n",
              " 'thanks': 6844,\n",
              " 'home': 3039,\n",
              " 'quite': 5434,\n",
              " 'reality': 5513,\n",
              " 'website': 7549,\n",
              " 'movies': 4352,\n",
              " 'side': 6104,\n",
              " 'must': 4412,\n",
              " 'taken': 6713,\n",
              " 'real': 5509,\n",
              " 'valentine': 7351,\n",
              " 'shopping': 6059,\n",
              " 'first': 2350,\n",
              " 'sir': 6138,\n",
              " 'smoothly': 6228,\n",
              " 'hoped': 3062,\n",
              " 'bother': 780,\n",
              " 'bills': 675,\n",
              " 'cant': 991,\n",
              " 'settle': 5979,\n",
              " 'extra': 2198,\n",
              " 'cash': 1031,\n",
              " 'know': 3615,\n",
              " 'challenging': 1083,\n",
              " 'also': 214,\n",
              " 'let': 3758,\n",
              " 'mood': 4317,\n",
              " 'off': 4685,\n",
              " 'baaaaaaaabe': 485,\n",
              " 'wake': 7470,\n",
              " 'up': 7280,\n",
              " 'crave': 1454,\n",
              " 'need': 4480,\n",
              " 'trying': 7146,\n",
              " 'contact': 1368,\n",
              " 'last': 3683,\n",
              " 'weekends': 7563,\n",
              " 'draw': 1888,\n",
              " 'shows': 6086,\n",
              " 'guaranteed': 2794,\n",
              " 'claim': 1199,\n",
              " 'code': 1257,\n",
              " 'valid': 7353,\n",
              " 'hrs': 3105,\n",
              " 'pm': 5127,\n",
              " 'covers': 1442,\n",
              " 'kisses': 3587,\n",
              " 'tomorrow': 7033,\n",
              " 'send': 5947,\n",
              " 'meeting': 4132,\n",
              " 'ge': 2597,\n",
              " 'nite': 4550,\n",
              " 'thankyou': 6847,\n",
              " 'much': 4384,\n",
              " 'appreciate': 326,\n",
              " 'care': 1005,\n",
              " 'jane': 3409,\n",
              " 'babes': 488,\n",
              " 'not': 4600,\n",
              " 'goin': 2683,\n",
              " 'wrk': 7788,\n",
              " 'after': 123,\n",
              " 'lst': 3947,\n",
              " 'foned': 2409,\n",
              " 'already': 209,\n",
              " 'chuck': 1188,\n",
              " 'excellent': 2156,\n",
              " 'spent': 6360,\n",
              " 'ltgt': 3953,\n",
              " 'force': 2420,\n",
              " 'iraq': 3341,\n",
              " 'afghanistan': 118,\n",
              " 'stable': 6416,\n",
              " 'honest': 3046,\n",
              " 'traveling': 7113,\n",
              " 'mmm': 4263,\n",
              " 'better': 652,\n",
              " 'got': 2720,\n",
              " 'roast': 5726,\n",
              " 'had': 2829,\n",
              " 'drinks': 1905,\n",
              " 'indian': 3255,\n",
              " 'thanx': 6848,\n",
              " 'only': 4755,\n",
              " 'once': 4743,\n",
              " 'obey': 4667,\n",
              " 'yours': 7958,\n",
              " 'work': 7746,\n",
              " 'tel': 6788,\n",
              " 'shall': 6006,\n",
              " 'nothing': 4605,\n",
              " 'anyway': 298,\n",
              " 'treat': 7118,\n",
              " 'sorry': 6304,\n",
              " 'tau': 6744,\n",
              " 'sar': 5834,\n",
              " 'piah': 5050,\n",
              " 'nice': 4527,\n",
              " 'thx': 6948,\n",
              " 'months': 4316,\n",
              " 'staying': 6454,\n",
              " 'just': 3502,\n",
              " 'finished': 2338,\n",
              " 'eating': 1978,\n",
              " 'plate': 5097,\n",
              " 'leftovers': 3735,\n",
              " 'yes': 7914,\n",
              " 'moan': 4273,\n",
              " 'lovely': 3924,\n",
              " 'smell': 6212,\n",
              " 'bus': 906,\n",
              " 'aint': 161,\n",
              " 'tobacco': 7003,\n",
              " 'own': 4864,\n",
              " 'gt': 2790,\n",
              " 'baskets': 551,\n",
              " 'gettin': 2626,\n",
              " 'full': 2532,\n",
              " 'might': 4196,\n",
              " 'by': 927,\n",
              " 'tonight': 7045,\n",
              " 'alfie': 188,\n",
              " 'moons': 4319,\n",
              " 'children': 1159,\n",
              " 'song': 6288,\n",
              " 'mob': 4274,\n",
              " 'ms': 4364,\n",
              " 'txt': 7185,\n",
              " 'tone': 7037,\n",
              " 'charity': 1100,\n",
              " 'nokias': 4575,\n",
              " 'poly': 5162,\n",
              " 'polys': 5168,\n",
              " 'zed': 7984,\n",
              " 'profit': 5334,\n",
              " 'afternoon': 125,\n",
              " 'starshine': 6435,\n",
              " 'boytoy': 804,\n",
              " 'does': 1825,\n",
              " 'yet': 7923,\n",
              " 'ache': 51,\n",
              " 'fuck': 2521,\n",
              " 'sips': 6137,\n",
              " 'cappuccino': 996,\n",
              " 'teasing': 6778,\n",
              " 'number': 4643,\n",
              " 'she': 6021,\n",
              " 'themobhit': 6871,\n",
              " 'link': 3811,\n",
              " 'premium': 5261,\n",
              " 'pink': 5073,\n",
              " 'panther': 4901,\n",
              " 'game': 2563,\n",
              " 'sugababes': 6598,\n",
              " 'zebra': 7983,\n",
              " 'animation': 259,\n",
              " 'badass': 502,\n",
              " 'hoody': 3056,\n",
              " 'wallpaperall': 7483,\n",
              " 'hey': 2973,\n",
              " 'rite': 5720,\n",
              " 'put': 5405,\n",
              " 'evey': 2140,\n",
              " 'mnth': 4270,\n",
              " 'come': 1287,\n",
              " 'one': 4745,\n",
              " 'trust': 7140,\n",
              " 'apps': 332,\n",
              " 'class': 1206,\n",
              " 'varaya': 7361,\n",
              " 'elaya': 2020,\n",
              " 'always': 219,\n",
              " 'yahoo': 7890,\n",
              " 'messenger': 4183,\n",
              " 'may': 4099,\n",
              " 'mode': 4285,\n",
              " 'sha': 5996,\n",
              " 'reply': 5627,\n",
              " 'doing': 1838,\n",
              " 'masters': 4073,\n",
              " 'buy': 917,\n",
              " 'bb': 565,\n",
              " 'cos': 1412,\n",
              " 'sale': 5812,\n",
              " 'bf': 659,\n",
              " 'hi': 2978,\n",
              " 'shanilrakhesh': 6011,\n",
              " 'herethanksi': 2958,\n",
              " 'exchanged': 2158,\n",
              " 'uncut': 7235,\n",
              " 'diamond': 1728,\n",
              " 'stuffleaving': 6556,\n",
              " 'service': 5972,\n",
              " 'dino': 1769,\n",
              " 'prem': 5259,\n",
              " 'were': 7589,\n",
              " 'king': 3580,\n",
              " 'hill': 2989,\n",
              " 'thing': 6896,\n",
              " 've': 7370,\n",
              " 'bin': 678,\n",
              " 'awarded': 474,\n",
              " 'play': 5099,\n",
              " 'instant': 3298,\n",
              " 'th': 6838,\n",
              " 'wins': 7677,\n",
              " 'min': 4206,\n",
              " 'optout': 4791,\n",
              " 'em': 2030,\n",
              " 'find': 2327,\n",
              " 'wtc': 7801,\n",
              " 'far': 2248,\n",
              " 'weiyi': 7575,\n",
              " 'rest': 5664,\n",
              " 'dunno': 1943,\n",
              " 'able': 15,\n",
              " 'join': 3459,\n",
              " 'single': 6133,\n",
              " 'answers': 279,\n",
              " 'fighting': 2306,\n",
              " 'plus': 5124,\n",
              " 'said': 5806,\n",
              " 'broke': 853,\n",
              " 'didnt': 1738,\n",
              " 'our': 4828,\n",
              " 'calls': 966,\n",
              " 'us': 7315,\n",
              " 'ring': 5707,\n",
              " 'claims': 1200,\n",
              " 'line': 3803,\n",
              " 'normal': 4592,\n",
              " 'pilates': 5067,\n",
              " 'intro': 3321,\n",
              " 'look': 3883,\n",
              " 'uncles': 7228,\n",
              " 'atlanta': 417,\n",
              " 'semester': 5944,\n",
              " 'gift': 2636,\n",
              " 'god': 2673,\n",
              " 'bring': 843,\n",
              " 'success': 6583,\n",
              " 'made': 3999,\n",
              " 'friday': 2490,\n",
              " 'stuffed': 6554,\n",
              " 'myself': 4427,\n",
              " 'pig': 5065,\n",
              " 'yesterday': 7922,\n",
              " 'bleh': 711,\n",
              " 'least': 3725,\n",
              " 'writhing': 7787,\n",
              " 'pain': 4885,\n",
              " 'kind': 3577,\n",
              " 'lucky': 3961,\n",
              " 'winner': 7673,\n",
              " 'text': 6825,\n",
              " 'over': 4850,\n",
              " 'million': 4203,\n",
              " 'away': 475,\n",
              " 'pptxnormal': 5225,\n",
              " 'rate': 5478,\n",
              " 'box': 791,\n",
              " 'wtjy': 7805,\n",
              " 'ran': 5468,\n",
              " 'younger': 7952,\n",
              " 'man': 4032,\n",
              " 'pretty': 5279,\n",
              " 'babies': 490,\n",
              " 'together': 7016,\n",
              " 'taxt': 6750,\n",
              " 'massagetiepos': 4070,\n",
              " 'argh': 351,\n",
              " 'lool': 3889,\n",
              " 'anytime': 297,\n",
              " 'please': 5110,\n",
              " 'landline': 3664,\n",
              " 'holiday': 3034,\n",
              " 'await': 470,\n",
              " 'collection': 1275,\n",
              " 'cs': 1491,\n",
              " 'sae': 5801,\n",
              " 'po': 5137,\n",
              " 'mxy': 4421,\n",
              " 'watch': 7514,\n",
              " 'remember': 5598,\n",
              " 'decide': 1630,\n",
              " 'easter': 1973,\n",
              " 'library': 3769,\n",
              " 'these': 6885,\n",
              " 'shirts': 6042,\n",
              " 'wear': 7540,\n",
              " 'them': 6867,\n",
              " 'nudist': 4640,\n",
              " 'themed': 6868,\n",
              " 'mu': 4383,\n",
              " 'done': 1852,\n",
              " 'studyn': 6552,\n",
              " 'ard': 344,\n",
              " 'lor': 3895,\n",
              " 'mystery': 4429,\n",
              " 'solved': 6266,\n",
              " 'opened': 4770,\n",
              " 'email': 2031,\n",
              " 'hes': 2969,\n",
              " 'sent': 5957,\n",
              " 'another': 272,\n",
              " 'batch': 554,\n",
              " 'isnt': 3359,\n",
              " 'sweetie': 6672,\n",
              " 'sweet': 6669,\n",
              " 'wondering': 7729,\n",
              " 'moment': 4295,\n",
              " 'want': 7492,\n",
              " 'file': 2313,\n",
              " 'someone': 6270,\n",
              " 'because': 595,\n",
              " 'connection': 1357,\n",
              " 'sucks': 6589,\n",
              " 'set': 5976,\n",
              " 'page': 4881,\n",
              " 'download': 1875,\n",
              " 'format': 2437,\n",
              " 'disc': 1787,\n",
              " 'could': 1423,\n",
              " 'other': 4821,\n",
              " 'files': 2314,\n",
              " 'stuff': 6553,\n",
              " 'directly': 1774,\n",
              " 'internet': 3312,\n",
              " 'help': 2946,\n",
              " 'would': 7773,\n",
              " 'prey': 5284,\n",
              " 'monday': 4299,\n",
              " 'wat': 7513,\n",
              " 'makes': 4024,\n",
              " 'fall': 2232,\n",
              " 'actually': 71,\n",
              " 'prone': 5351,\n",
              " 'falls': 2235,\n",
              " 'dad': 1543,\n",
              " 'ask': 391,\n",
              " 'him': 2992,\n",
              " 'fetch': 2290,\n",
              " 'mths': 4380,\n",
              " 'half': 2843,\n",
              " 'price': 5285,\n",
              " 'orange': 4795,\n",
              " 'rental': 5613,\n",
              " 'latest': 3692,\n",
              " 'camera': 974,\n",
              " 'phones': 5043,\n",
              " 'phone': 5040,\n",
              " 'mobilesdirect': 4278,\n",
              " 'update': 7284,\n",
              " 'orstoptxt': 4814,\n",
              " 'run': 5784,\n",
              " 'ttyl': 7156,\n",
              " 'campus': 977,\n",
              " 'sathya': 5846,\n",
              " 'till': 6961,\n",
              " 'even': 2123,\n",
              " 'saw': 5858,\n",
              " 'situation': 6151,\n",
              " 'watching': 7518,\n",
              " 'cartoon': 1029,\n",
              " 'listening': 3825,\n",
              " 'music': 4410,\n",
              " 'amp': 234,\n",
              " 'eve': 2120,\n",
              " 'temple': 6800,\n",
              " 'church': 1190,\n",
              " 'what': 7606,\n",
              " 'morning': 4327,\n",
              " 'pookie': 5174,\n",
              " 'pie': 5061,\n",
              " 'accept': 34,\n",
              " 'dayu': 1601,\n",
              " 'sister': 6144,\n",
              " 'lover': 3926,\n",
              " 'best': 646,\n",
              " 'clos': 1226,\n",
              " 'lvblefrnd': 3979,\n",
              " 'jstfrnd': 3486,\n",
              " 'cutefrnd': 1529,\n",
              " 'lifpartnr': 3780,\n",
              " 'belovd': 636,\n",
              " 'swtheart': 6684,\n",
              " 'bstfrnd': 872,\n",
              " 'rply': 5763,\n",
              " 'means': 4115,\n",
              " 'enemy': 2053,\n",
              " 'juz': 3505,\n",
              " 'lar': 3676,\n",
              " 'until': 7277,\n",
              " 'jurong': 3500,\n",
              " 'point': 5154,\n",
              " 'available': 456,\n",
              " 'bugis': 890,\n",
              " 'world': 7754,\n",
              " 'la': 3643,\n",
              " 'buffet': 888,\n",
              " 'cine': 1193,\n",
              " 'amore': 232,\n",
              " 'chance': 1086,\n",
              " 'fantasy': 2247,\n",
              " 'show': 6079,\n",
              " 'per': 4993,\n",
              " 'ntt': 4637,\n",
              " 'ltd': 3949,\n",
              " 'croydon': 1483,\n",
              " 'cr': 1446,\n",
              " 'wb': 7531,\n",
              " 'national': 4457,\n",
              " 'youdoing': 7944,\n",
              " 'entitled': 2076,\n",
              " 'colour': 1280,\n",
              " 'mobiles': 4277,\n",
              " 'co': 1247,\n",
              " 'timing': 6972,\n",
              " 'wylie': 7858,\n",
              " 'tampa': 6730,\n",
              " 'sarasota': 5836,\n",
              " 'thinkin': 6901,\n",
              " 'times': 6966,\n",
              " 'yr': 7968,\n",
              " 'customer': 1523,\n",
              " 'representative': 5633,\n",
              " 'between': 654,\n",
              " 'ampm': 236,\n",
              " 'fyi': 2550,\n",
              " 'parents': 4917,\n",
              " 'place': 5084,\n",
              " 'south': 6324,\n",
              " 'deal': 1607,\n",
              " 'somewhere': 6282,\n",
              " 'else': 2027,\n",
              " 'santa': 5830,\n",
              " 'calling': 955,\n",
              " 'little': 3832,\n",
              " 'ones': 4747,\n",
              " 'xmas': 7866,\n",
              " 'book': 758,\n",
              " 'ish': 3354,\n",
              " 'minutes': 4230,\n",
              " 'ago': 141,\n",
              " 'wtf': 7802,\n",
              " 'spirit': 6365,\n",
              " 'soon': 6294,\n",
              " 'sure': 6641,\n",
              " 'abt': 24,\n",
              " 'movie': 4351,\n",
              " 'ktv': 3635,\n",
              " 'oso': 4819,\n",
              " 'especially': 2103,\n",
              " 'since': 6127,\n",
              " 'boston': 777,\n",
              " 'personal': 5011,\n",
              " 'statement': 6447,\n",
              " 'woulda': 7774,\n",
              " 'changed': 1089,\n",
              " 'realized': 5515,\n",
              " 'nyc': 4657,\n",
              " 'says': 5862,\n",
              " 'freemsgfeelin': 2476,\n",
              " 'kinda': 3578,\n",
              " 'lnly': 3846,\n",
              " 'company': 1306,\n",
              " 'jst': 3485,\n",
              " 'cam': 971,\n",
              " 'moby': 4284,\n",
              " 'pictxt': 5060,\n",
              " 'date': 1580,\n",
              " 'msgp': 4367,\n",
              " 'rcv': 5492,\n",
              " 'hlp': 3011,\n",
              " 'stop': 6495,\n",
              " 'sis': 6143,\n",
              " 'catching': 1045,\n",
              " 'uncle': 7227,\n",
              " 'abbey': 7,\n",
              " 'abiola': 13,\n",
              " 'days': 1596,\n",
              " 'finish': 2336,\n",
              " 'lick': 3770,\n",
              " 'drop': 1913,\n",
              " 'mouth': 4347,\n",
              " 'log': 3861,\n",
              " 'sdrybi': 5899,\n",
              " 'appledayno': 319,\n",
              " 'tulsi': 7163,\n",
              " 'leafdayno': 3720,\n",
              " 'cancer': 985,\n",
              " 'lemondayno': 3745,\n",
              " 'cup': 1511,\n",
              " 'milkdayno': 4202,\n",
              " 'bone': 753,\n",
              " 'problms': 5319,\n",
              " 'litres': 3831,\n",
              " 'watrdayno': 7525,\n",
              " 'diseases': 1794,\n",
              " 'snd': 6240,\n",
              " 'ths': 6941,\n",
              " 'whom': 7634,\n",
              " 'many': 4047,\n",
              " 'talents': 6719,\n",
              " 'bold': 749,\n",
              " 'torch': 7068,\n",
              " 'house': 3087,\n",
              " 'very': 7383,\n",
              " 'entertaining': 2073,\n",
              " 'getting': 2627,\n",
              " 'whole': 7633,\n",
              " 'hugh': 3127,\n",
              " 'laurie': 3700,\n",
              " 'stick': 6477,\n",
              " 'indeed': 3252,\n",
              " 'impressively': 3229,\n",
              " 'sensible': 5955,\n",
              " 'went': 7586,\n",
              " 'early': 1962,\n",
              " 'boring': 772,\n",
              " 'whens': 7616,\n",
              " 'probably': 5313,\n",
              " 'eat': 1975,\n",
              " 'gonna': 2695,\n",
              " 'pop': 5180,\n",
              " 'weekend': 7562,\n",
              " 'hmm': 3013,\n",
              " 'into': 3319,\n",
              " 'bedroom': 603,\n",
              " 'minute': 4229,\n",
              " 'sed': 5918,\n",
              " 'came': 973,\n",
              " 'minuts': 4231,\n",
              " 'latr': 3694,\n",
              " 'wid': 7644,\n",
              " 'caken': 936,\n",
              " 'wife': 7647,\n",
              " 'win': 7661,\n",
              " 'bluetooth': 736,\n",
              " 'headset': 2912,\n",
              " 'simply': 6124,\n",
              " 'adp': 94,\n",
              " 'ranjith': 5475,\n",
              " 'cal': 937,\n",
              " 'drpd': 1916,\n",
              " 'deeraj': 1647,\n",
              " 'deepak': 1644,\n",
              " 'hold': 3030,\n",
              " 'write': 7786,\n",
              " 'dictionary': 1734,\n",
              " 'screen': 5892,\n",
              " 'hand': 2851,\n",
              " 'press': 5276,\n",
              " 'gently': 2611,\n",
              " 'remove': 5607,\n",
              " 'interesting': 3309,\n",
              " 'sec': 5906,\n",
              " 'theres': 6883,\n",
              " 'somebody': 6268,\n",
              " 'upstairs': 7297,\n",
              " 'hectic': 2931,\n",
              " 'birds': 682,\n",
              " 'fell': 2286,\n",
              " 'swoop': 6681,\n",
              " 'wnt': 7716,\n",
              " 'tlk': 6991,\n",
              " 'laid': 3655,\n",
              " 'dogging': 1833,\n",
              " 'locations': 3855,\n",
              " 'direct': 1773,\n",
              " 'uks': 7215,\n",
              " 'largest': 3680,\n",
              " 'network': 4504,\n",
              " 'txting': 7190,\n",
              " 'nyt': 4660,\n",
              " 'eca': 1980,\n",
              " 'pmsgp': 5131,\n",
              " 'true': 7135,\n",
              " 'easier': 1968,\n",
              " 'macha': 3989,\n",
              " 'upseti': 7295,\n",
              " 'assume': 405,\n",
              " 'mindsetbelieve': 4211,\n",
              " 'evening': 2124,\n",
              " 'plans': 5096,\n",
              " 'both': 779,\n",
              " 'uslet': 7328,\n",
              " 'life': 3774,\n",
              " 'begin': 620,\n",
              " 'againcall': 130,\n",
              " 'goodmorning': 2704,\n",
              " 'late': 3686,\n",
              " 'hr': 3103,\n",
              " 'diddy': 1736,\n",
              " 'neighbor': 4492,\n",
              " 'comes': 1289,\n",
              " 'toothpaste': 7059,\n",
              " 'missed': 4240,\n",
              " 'slept': 6188,\n",
              " 'driving': 1909,\n",
              " 'entered': 2070,\n",
              " 'cabin': 931,\n",
              " 'pa': 4873,\n",
              " 'bday': 583,\n",
              " 'boss': 776,\n",
              " 'felt': 2287,\n",
              " 'special': 6341,\n",
              " 'askd': 392,\n",
              " 'lunch': 3966,\n",
              " 'invited': 3329,\n",
              " 'apartment': 303,\n",
              " 'marriage': 4062,\n",
              " 'function': 2535,\n",
              " 'couldnt': 1426,\n",
              " 'worse': 7766,\n",
              " 'death': 1624,\n",
              " 'leave': 3728,\n",
              " 'note': 4601,\n",
              " 'robs': 5729,\n",
              " 'fault': 2262,\n",
              " 'avenge': 462,\n",
              " 'drive': 1906,\n",
              " 'coherently': 1260,\n",
              " 'twenty': 7177,\n",
              " 'started': 6437,\n",
              " 'requests': 5635,\n",
              " 'bed': 601,\n",
              " 'double': 1866,\n",
              " 'coins': 1264,\n",
              " 'factory': 2215,\n",
              " 'gotta': 2726,\n",
              " 'nitros': 4553,\n",
              " 'hicts': 2979,\n",
              " 'employee': 2040,\n",
              " 'fun': 2534,\n",
              " 'fact': 2214,\n",
              " 'although': 218,\n",
              " 'armand': 360,\n",
              " 'eventually': 2127,\n",
              " 'build': 891,\n",
              " ...}"
            ]
          },
          "metadata": {},
          "execution_count": 202
        }
      ]
    },
    {
      "cell_type": "code",
      "source": [
        "#vectorizer.idf_"
      ],
      "metadata": {
        "colab": {
          "base_uri": "https://localhost:8080/"
        },
        "id": "vddBPoyt6b0i",
        "outputId": "6cdff02b-64b7-4149-b94a-f3c311eeb8de"
      },
      "execution_count": 199,
      "outputs": [
        {
          "output_type": "execute_result",
          "data": {
            "text/plain": [
              "array([8.82704152, 8.42157641, 8.82704152, ..., 8.82704152, 8.82704152,\n",
              "       8.82704152])"
            ]
          },
          "metadata": {},
          "execution_count": 199
        }
      ]
    },
    {
      "cell_type": "code",
      "source": [
        "\"\"\"\n",
        "vector = vectorizer.transform(X_train)\n",
        "vector.toarray()\n",
        "\"\"\""
      ],
      "metadata": {
        "id": "zKlqFiOpiDj0"
      },
      "execution_count": null,
      "outputs": []
    },
    {
      "cell_type": "code",
      "source": [
        "vector = vectorizer.fit_transform(X_train)\n",
        "vector.toarray()"
      ],
      "metadata": {
        "colab": {
          "base_uri": "https://localhost:8080/"
        },
        "id": "q5UtgvdPuVZj",
        "outputId": "64571fe4-fea7-4e2d-d603-2397f0944694"
      },
      "execution_count": 201,
      "outputs": [
        {
          "output_type": "execute_result",
          "data": {
            "text/plain": [
              "array([[0., 0., 0., ..., 0., 0., 0.],\n",
              "       [0., 0., 0., ..., 0., 0., 0.],\n",
              "       [0., 0., 0., ..., 0., 0., 0.],\n",
              "       ...,\n",
              "       [0., 0., 0., ..., 0., 0., 0.],\n",
              "       [0., 0., 0., ..., 0., 0., 0.],\n",
              "       [0., 0., 0., ..., 0., 0., 0.]])"
            ]
          },
          "metadata": {},
          "execution_count": 201
        }
      ]
    },
    {
      "cell_type": "code",
      "source": [
        "\"\"\"\n",
        "X_train = list(X_train)\n",
        "type(X_train[0])\n",
        "\"\"\""
      ],
      "metadata": {
        "colab": {
          "base_uri": "https://localhost:8080/"
        },
        "id": "i8yxaImoozqC",
        "outputId": "adfa7f4c-df84-4b45-e402-3fe797b13394"
      },
      "execution_count": 165,
      "outputs": [
        {
          "output_type": "execute_result",
          "data": {
            "text/plain": [
              "str"
            ]
          },
          "metadata": {},
          "execution_count": 165
        }
      ]
    },
    {
      "cell_type": "code",
      "source": [
        "\"\"\"\n",
        "vector = vectorizer.transform(X_train)\n",
        "vector.toarray()\n",
        "\"\"\"\n",
        "\n",
        "fitted_vectorizer = vectorizer.fit(X_train)\n",
        "vector = fitted_vectorizer.transform(X_train)\n"
      ],
      "metadata": {
        "id": "nZORSe3Ok7xN"
      },
      "execution_count": 166,
      "outputs": []
    },
    {
      "cell_type": "code",
      "source": [
        "\"\"\"\n",
        "import scipy\n",
        "vector = []\n",
        "for i in range(len(X_train)):\n",
        "  vector.append(vectorizer.transform([X_train[i]]))\n",
        "vector = scipy.sparse.csr_matrix(vector)\n",
        "vector.toarray()\n",
        "\"\"\""
      ],
      "metadata": {
        "colab": {
          "base_uri": "https://localhost:8080/",
          "height": 36
        },
        "id": "2atSmLO7iOA5",
        "outputId": "1732c17a-8981-46a3-8b38-c91fdd117330"
      },
      "execution_count": 167,
      "outputs": [
        {
          "output_type": "execute_result",
          "data": {
            "text/plain": [
              "'\\nimport scipy\\nvector = []\\nfor i in range(len(X_train)):\\n  vector.append(vectorizer.transform([X_train[i]]))\\nvector = scipy.sparse.csr_matrix(vector)\\nvector.toarray()\\n'"
            ],
            "application/vnd.google.colaboratory.intrinsic+json": {
              "type": "string"
            }
          },
          "metadata": {},
          "execution_count": 167
        }
      ]
    },
    {
      "cell_type": "code",
      "source": [
        "\"\"\"\n",
        "vector = []\n",
        "for i in range(len(X_train)):\n",
        "  vector.append(vectorizer.transform([X_train[i]]))\n",
        "vector = np.array(vector)\n",
        "\n",
        "for i in range(len(vector.toarray())):\n",
        "  if vector.toarray()[0][i] != 0:\n",
        "    print(vector.toarray()[0][i])\n",
        "\n",
        "vector.toarray()\n",
        "\"\"\""
      ],
      "metadata": {
        "colab": {
          "base_uri": "https://localhost:8080/",
          "height": 53
        },
        "id": "i6_Olnrq4ONx",
        "outputId": "f1ab3c7b-178c-403f-d739-c80428a19311"
      },
      "execution_count": 168,
      "outputs": [
        {
          "output_type": "execute_result",
          "data": {
            "text/plain": [
              "'\\nvector = []\\nfor i in range(len(X_train)):\\n  vector.append(vectorizer.transform([X_train[i]]))\\nvector = np.array(vector)\\n\\nfor i in range(len(vector.toarray())):\\n  if vector.toarray()[0][i] != 0:\\n    print(vector.toarray()[0][i])\\n\\nvector.toarray()\\n'"
            ],
            "application/vnd.google.colaboratory.intrinsic+json": {
              "type": "string"
            }
          },
          "metadata": {},
          "execution_count": 168
        }
      ]
    },
    {
      "cell_type": "code",
      "source": [],
      "metadata": {
        "id": "4cMQUIefjFJL"
      },
      "execution_count": 168,
      "outputs": []
    },
    {
      "cell_type": "code",
      "source": [
        "vectorizer.get_feature_names_out().shape"
      ],
      "metadata": {
        "colab": {
          "base_uri": "https://localhost:8080/"
        },
        "id": "OCw-VOYTPGgU",
        "outputId": "80fd4b9d-0e5d-4f6d-9746-c7ca01a2030b"
      },
      "execution_count": 169,
      "outputs": [
        {
          "output_type": "execute_result",
          "data": {
            "text/plain": [
              "(8051,)"
            ]
          },
          "metadata": {},
          "execution_count": 169
        }
      ]
    },
    {
      "cell_type": "code",
      "source": [
        "vector.toarray()[0][1]"
      ],
      "metadata": {
        "colab": {
          "base_uri": "https://localhost:8080/"
        },
        "id": "L-P03FZq59o0",
        "outputId": "cab3accf-a9bb-49d3-ac39-4b2b963f4ba3"
      },
      "execution_count": 170,
      "outputs": [
        {
          "output_type": "execute_result",
          "data": {
            "text/plain": [
              "0.0"
            ]
          },
          "metadata": {},
          "execution_count": 170
        }
      ]
    },
    {
      "cell_type": "code",
      "source": [
        "vector.toarray().shape"
      ],
      "metadata": {
        "colab": {
          "base_uri": "https://localhost:8080/"
        },
        "id": "nfBjCFMF-iNR",
        "outputId": "12299fe5-990b-4e03-b7d3-f5ffb6b43e82"
      },
      "execution_count": 171,
      "outputs": [
        {
          "output_type": "execute_result",
          "data": {
            "text/plain": [
              "(5014, 8051)"
            ]
          },
          "metadata": {},
          "execution_count": 171
        }
      ]
    },
    {
      "cell_type": "code",
      "source": [
        "y_train.shape"
      ],
      "metadata": {
        "colab": {
          "base_uri": "https://localhost:8080/"
        },
        "id": "BaBE940k-p88",
        "outputId": "cf262f47-fcc6-42fc-fe06-422e86e8a9dd"
      },
      "execution_count": 172,
      "outputs": [
        {
          "output_type": "execute_result",
          "data": {
            "text/plain": [
              "(5014,)"
            ]
          },
          "metadata": {},
          "execution_count": 172
        }
      ]
    },
    {
      "cell_type": "code",
      "source": [
        "X_train.shape"
      ],
      "metadata": {
        "colab": {
          "base_uri": "https://localhost:8080/",
          "height": 165
        },
        "id": "DEuN2s25-vZw",
        "outputId": "07c8f5e9-c63f-4094-dbd5-b72abdce312b"
      },
      "execution_count": 173,
      "outputs": [
        {
          "output_type": "error",
          "ename": "AttributeError",
          "evalue": "ignored",
          "traceback": [
            "\u001b[0;31m---------------------------------------------------------------------------\u001b[0m",
            "\u001b[0;31mAttributeError\u001b[0m                            Traceback (most recent call last)",
            "\u001b[0;32m<ipython-input-173-d2ba684acd0f>\u001b[0m in \u001b[0;36m<cell line: 1>\u001b[0;34m()\u001b[0m\n\u001b[0;32m----> 1\u001b[0;31m \u001b[0mX_train\u001b[0m\u001b[0;34m.\u001b[0m\u001b[0mshape\u001b[0m\u001b[0;34m\u001b[0m\u001b[0;34m\u001b[0m\u001b[0m\n\u001b[0m",
            "\u001b[0;31mAttributeError\u001b[0m: 'list' object has no attribute 'shape'"
          ]
        }
      ]
    },
    {
      "cell_type": "code",
      "source": [
        "vector_val = vectorizer.transform(X_val)"
      ],
      "metadata": {
        "id": "GrcD_zmP_boC"
      },
      "execution_count": 70,
      "outputs": []
    },
    {
      "cell_type": "code",
      "source": [
        "from sklearn.naive_bayes import GaussianNB\n",
        "gnb = GaussianNB()\n",
        "\n",
        "gnb.fit(vector.toarray(),y_train)\n",
        "gnb.score(vector.toarray(),y_train)"
      ],
      "metadata": {
        "colab": {
          "base_uri": "https://localhost:8080/"
        },
        "id": "KhozBkgpZfL3",
        "outputId": "ff6353f4-4d3c-4b40-e77a-ce6ab53b8107"
      },
      "execution_count": 72,
      "outputs": [
        {
          "output_type": "execute_result",
          "data": {
            "text/plain": [
              "0.8522138013562026"
            ]
          },
          "metadata": {},
          "execution_count": 72
        }
      ]
    },
    {
      "cell_type": "code",
      "source": [
        "gnb.score(vector_val.toarray(),y_val)"
      ],
      "metadata": {
        "colab": {
          "base_uri": "https://localhost:8080/"
        },
        "id": "tyt0jd06AuyX",
        "outputId": "f8138c7f-4909-43e1-8df8-19069bb68c80"
      },
      "execution_count": 73,
      "outputs": [
        {
          "output_type": "execute_result",
          "data": {
            "text/plain": [
              "0.6075268817204301"
            ]
          },
          "metadata": {},
          "execution_count": 73
        }
      ]
    },
    {
      "cell_type": "code",
      "source": [
        "y_pred = gnb.predict(vector_val.toarray())\n",
        "\n",
        "y_pred"
      ],
      "metadata": {
        "id": "EoZA89xQ_zW0"
      },
      "execution_count": null,
      "outputs": []
    }
  ]
}